{
 "cells": [
  {
   "cell_type": "markdown",
   "metadata": {},
   "source": [
    "### Note\n",
    "* Instructions have been included for each segment. You do not have to follow them exactly, but they are included to help you think through the steps."
   ]
  },
  {
   "cell_type": "code",
   "execution_count": 275,
   "metadata": {},
   "outputs": [],
   "source": [
    "# Dependencies and Setup\n",
    "import pandas as pd\n",
    "\n",
    "# File to Load (Remember to Change These)\n",
    "school_data_to_load = \"Resources/schools_complete.csv\"\n",
    "student_data_to_load = \"Resources/students_complete.csv\"\n",
    "\n",
    "# Read School and Student Data File and store into Pandas DataFrames\n",
    "school_data = pd.read_csv(school_data_to_load)\n",
    "student_data = pd.read_csv(student_data_to_load)\n",
    "\n",
    "# Combine the data into a single dataset.  \n",
    "school_data_complete = pd.merge(student_data, school_data, how=\"left\", on=[\"school_name\", \"school_name\"])"
   ]
  },
  {
   "source": [
    "## School District Summary"
   ],
   "cell_type": "markdown",
   "metadata": {}
  },
  {
   "source": [
    "# District Summary\n",
    "\n",
    "#Calculate the total number of schools\n",
    "school_count = school_data['school_name'].count()\n",
    "\n",
    "#Calculate the total number of students\n",
    "student_count = student_data['Student ID'].count()\n",
    "\n",
    "# Calculate the total budget\n",
    "district_budget = school_data['budget'].sum()\n",
    "\n",
    "# Calculate the average math score \n",
    "avg_math = student_data['math_score'].mean()\n",
    "\n",
    "# Calculate the average reading score\n",
    "avg_reading = student_data['reading_score'].mean()\n",
    "\n",
    "# Calculate the percentage of students with a passing math score (70 or greater)\n",
    "pct_passing_math = (student_data.math_score >= 70).mean()\n",
    "\n",
    "# Calculate the percentage of students with a passing reading score (70 or greater)\n",
    "pct_passing_reading = (student_data.reading_score >= 70).mean()\n",
    "\n",
    "# Calculate the percentage of students who passed math **and** reading (% Overall Passing)\n",
    "pct_passing_mr = ((student_data.reading_score >= 70) & (student_data.math_score >= 70)).mean()\n",
    "\n",
    "# Create a dataframe to hold the above results\n",
    "district_summary_df = pd.DataFrame({\n",
    "    'Total Schools': [school_count], \n",
    "    'Total Students': [student_count],\n",
    "    'Total Budget': [district_budget],\n",
    "    'Average Math Score': [avg_math],\n",
    "    'Average Reading Score': [avg_reading],\n",
    "    '% Passing Math': [pct_passing_math],\n",
    "    '% Passing Reading': [pct_passing_reading],\n",
    "    '% Passing Math and Reading': [pct_passing_mr]})\n",
    "\n",
    "# Optional: give the displayed data cleaner formatting\n",
    "\n",
    "format_dict = {'Total Budget':'${0:,.2f}', 'Total Students': '{:,}', 'Average Math Score': '{:.2f}', 'Average Reading Score': '{:.2f}', '% Passing Math': '{:.2%}', '% Passing Reading': '{:.2%}', '% Passing Math and Reading': '{:.2%}'}\n",
    "\n",
    "district_summary_df = district_summary_df.style.format(format_dict).hide_index()\n"
   ],
   "cell_type": "code",
   "metadata": {},
   "execution_count": 276,
   "outputs": []
  },
  {
   "cell_type": "code",
   "execution_count": 277,
   "metadata": {},
   "outputs": [
    {
     "output_type": "execute_result",
     "data": {
      "text/plain": [
       "<pandas.io.formats.style.Styler at 0x7ff571c49ca0>"
      ],
      "text/html": "<style  type=\"text/css\" >\n</style><table id=\"T_4ada10ba_9f7e_11eb_8159_1e00da2e5098\" ><thead>    <tr>        <th class=\"col_heading level0 col0\" >Total Schools</th>        <th class=\"col_heading level0 col1\" >Total Students</th>        <th class=\"col_heading level0 col2\" >Total Budget</th>        <th class=\"col_heading level0 col3\" >Average Math Score</th>        <th class=\"col_heading level0 col4\" >Average Reading Score</th>        <th class=\"col_heading level0 col5\" >% Passing Math</th>        <th class=\"col_heading level0 col6\" >% Passing Reading</th>        <th class=\"col_heading level0 col7\" >% Passing Math and Reading</th>    </tr></thead><tbody>\n                <tr>\n                                <td id=\"T_4ada10ba_9f7e_11eb_8159_1e00da2e5098row0_col0\" class=\"data row0 col0\" >15</td>\n                        <td id=\"T_4ada10ba_9f7e_11eb_8159_1e00da2e5098row0_col1\" class=\"data row0 col1\" >39,170</td>\n                        <td id=\"T_4ada10ba_9f7e_11eb_8159_1e00da2e5098row0_col2\" class=\"data row0 col2\" >$24,649,428.00</td>\n                        <td id=\"T_4ada10ba_9f7e_11eb_8159_1e00da2e5098row0_col3\" class=\"data row0 col3\" >78.99</td>\n                        <td id=\"T_4ada10ba_9f7e_11eb_8159_1e00da2e5098row0_col4\" class=\"data row0 col4\" >81.88</td>\n                        <td id=\"T_4ada10ba_9f7e_11eb_8159_1e00da2e5098row0_col5\" class=\"data row0 col5\" >74.98%</td>\n                        <td id=\"T_4ada10ba_9f7e_11eb_8159_1e00da2e5098row0_col6\" class=\"data row0 col6\" >85.81%</td>\n                        <td id=\"T_4ada10ba_9f7e_11eb_8159_1e00da2e5098row0_col7\" class=\"data row0 col7\" >65.17%</td>\n            </tr>\n    </tbody></table>"
     },
     "metadata": {},
     "execution_count": 277
    }
   ],
   "source": [
    "district_summary_df"
   ]
  },
  {
   "source": [
    "## School Summary"
   ],
   "cell_type": "markdown",
   "metadata": {}
  },
  {
   "cell_type": "code",
   "execution_count": 278,
   "metadata": {},
   "outputs": [],
   "source": [
    "#update school df\n",
    "#WARNING - THIS ONLY RUNS ONCE - IT WILL FAIL ONCE THE COLUMN HAS BEEN DROPPED - ALTERNATE WOULD BE TO CREATE A NEW DF W/O THIS COLUMN AND WORK AGAINST THAT GOING FORWARD - I CHOSE THIS METHOD\n",
    "school_data = school_data.drop(columns = ['School ID'])\n",
    "# Set the index\n",
    "school_data = school_data.set_index('school_name')\n"
   ]
  },
  {
   "cell_type": "code",
   "execution_count": 279,
   "metadata": {},
   "outputs": [],
   "source": [
    "#update student df\n",
    "student_data['passing_both'] = ((student_data['math_score'] >= 70) & (student_data['reading_score'] >= 70))\n",
    "\n",
    "#get school averages\n",
    "stdt_grp = student_data.groupby(['school_name']) \n",
    "\n",
    "s_mean_math_score = stdt_grp['math_score'].mean()\n",
    "s_mean_reading_score = stdt_grp['reading_score'].mean()\n",
    "\n",
    "s_passing_math = stdt_grp['math_score'].apply(lambda x: (x >= 70).mean())\n",
    "s_passing_reading = stdt_grp['reading_score'].apply(lambda x: (x >= 70).mean())\n",
    "\n",
    "#% passing both - I couldn't figure out how to do with in groupby w lambda - would love feedback\n",
    "s_passing_both = stdt_grp['passing_both'].mean()\n",
    "\n",
    "#merge the data\n",
    "merged_school_data = school_data.merge(s_mean_math_score,on='school_name').merge(s_mean_reading_score,on='school_name').merge(s_passing_math,on='school_name').merge(s_passing_reading,on='school_name').merge(s_passing_both,on='school_name')\n",
    "\n",
    "\n",
    "#rename the columns\n",
    "renamed_school_data = merged_school_data.rename(columns={'school_name': \"School Name\", 'type': 'School Type', 'size': 'Total Students', 'budget': 'Total School Budget', 'math_score_x': 'Average Math Score', 'reading_score_x': 'Average Reading Score', 'math_score_y': '% Passing Math', 'reading_score_y': '% Passing Reading', 'math_score_x': 'Average Math Score', 'passing_both': '% Overall Passing'})\n",
    "\n",
    "\n",
    "#formatting\n",
    "\n",
    "format_dict = {'Total School Budget':'${0:,.2f}', 'Total Students': '{:,}', 'Average Math Score': '{:.2f}', 'Average Reading Score': '{:.2f}', '% Passing Math': '{:.2%}', '% Passing Reading': '{:.2%}', '% Overall Passing': '{:.2%}'}\n",
    "\n",
    "sorted_school_data = renamed_school_data.sort_index()\n",
    "all_school_summary = sorted_school_data.style.format(format_dict)\n",
    "\n"
   ]
  },
  {
   "cell_type": "code",
   "execution_count": 280,
   "metadata": {},
   "outputs": [
    {
     "output_type": "execute_result",
     "data": {
      "text/plain": [
       "<pandas.io.formats.style.Styler at 0x7ff571d17910>"
      ],
      "text/html": "<style  type=\"text/css\" >\n</style><table id=\"T_4ae1e72c_9f7e_11eb_8159_1e00da2e5098\" ><thead>    <tr>        <th class=\"blank level0\" ></th>        <th class=\"col_heading level0 col0\" >School Type</th>        <th class=\"col_heading level0 col1\" >Total Students</th>        <th class=\"col_heading level0 col2\" >Total School Budget</th>        <th class=\"col_heading level0 col3\" >Average Math Score</th>        <th class=\"col_heading level0 col4\" >Average Reading Score</th>        <th class=\"col_heading level0 col5\" >% Passing Math</th>        <th class=\"col_heading level0 col6\" >% Passing Reading</th>        <th class=\"col_heading level0 col7\" >% Overall Passing</th>    </tr>    <tr>        <th class=\"index_name level0\" >school_name</th>        <th class=\"blank\" ></th>        <th class=\"blank\" ></th>        <th class=\"blank\" ></th>        <th class=\"blank\" ></th>        <th class=\"blank\" ></th>        <th class=\"blank\" ></th>        <th class=\"blank\" ></th>        <th class=\"blank\" ></th>    </tr></thead><tbody>\n                <tr>\n                        <th id=\"T_4ae1e72c_9f7e_11eb_8159_1e00da2e5098level0_row0\" class=\"row_heading level0 row0\" >Bailey High School</th>\n                        <td id=\"T_4ae1e72c_9f7e_11eb_8159_1e00da2e5098row0_col0\" class=\"data row0 col0\" >District</td>\n                        <td id=\"T_4ae1e72c_9f7e_11eb_8159_1e00da2e5098row0_col1\" class=\"data row0 col1\" >4,976</td>\n                        <td id=\"T_4ae1e72c_9f7e_11eb_8159_1e00da2e5098row0_col2\" class=\"data row0 col2\" >$3,124,928.00</td>\n                        <td id=\"T_4ae1e72c_9f7e_11eb_8159_1e00da2e5098row0_col3\" class=\"data row0 col3\" >77.05</td>\n                        <td id=\"T_4ae1e72c_9f7e_11eb_8159_1e00da2e5098row0_col4\" class=\"data row0 col4\" >81.03</td>\n                        <td id=\"T_4ae1e72c_9f7e_11eb_8159_1e00da2e5098row0_col5\" class=\"data row0 col5\" >66.68%</td>\n                        <td id=\"T_4ae1e72c_9f7e_11eb_8159_1e00da2e5098row0_col6\" class=\"data row0 col6\" >81.93%</td>\n                        <td id=\"T_4ae1e72c_9f7e_11eb_8159_1e00da2e5098row0_col7\" class=\"data row0 col7\" >54.64%</td>\n            </tr>\n            <tr>\n                        <th id=\"T_4ae1e72c_9f7e_11eb_8159_1e00da2e5098level0_row1\" class=\"row_heading level0 row1\" >Cabrera High School</th>\n                        <td id=\"T_4ae1e72c_9f7e_11eb_8159_1e00da2e5098row1_col0\" class=\"data row1 col0\" >Charter</td>\n                        <td id=\"T_4ae1e72c_9f7e_11eb_8159_1e00da2e5098row1_col1\" class=\"data row1 col1\" >1,858</td>\n                        <td id=\"T_4ae1e72c_9f7e_11eb_8159_1e00da2e5098row1_col2\" class=\"data row1 col2\" >$1,081,356.00</td>\n                        <td id=\"T_4ae1e72c_9f7e_11eb_8159_1e00da2e5098row1_col3\" class=\"data row1 col3\" >83.06</td>\n                        <td id=\"T_4ae1e72c_9f7e_11eb_8159_1e00da2e5098row1_col4\" class=\"data row1 col4\" >83.98</td>\n                        <td id=\"T_4ae1e72c_9f7e_11eb_8159_1e00da2e5098row1_col5\" class=\"data row1 col5\" >94.13%</td>\n                        <td id=\"T_4ae1e72c_9f7e_11eb_8159_1e00da2e5098row1_col6\" class=\"data row1 col6\" >97.04%</td>\n                        <td id=\"T_4ae1e72c_9f7e_11eb_8159_1e00da2e5098row1_col7\" class=\"data row1 col7\" >91.33%</td>\n            </tr>\n            <tr>\n                        <th id=\"T_4ae1e72c_9f7e_11eb_8159_1e00da2e5098level0_row2\" class=\"row_heading level0 row2\" >Figueroa High School</th>\n                        <td id=\"T_4ae1e72c_9f7e_11eb_8159_1e00da2e5098row2_col0\" class=\"data row2 col0\" >District</td>\n                        <td id=\"T_4ae1e72c_9f7e_11eb_8159_1e00da2e5098row2_col1\" class=\"data row2 col1\" >2,949</td>\n                        <td id=\"T_4ae1e72c_9f7e_11eb_8159_1e00da2e5098row2_col2\" class=\"data row2 col2\" >$1,884,411.00</td>\n                        <td id=\"T_4ae1e72c_9f7e_11eb_8159_1e00da2e5098row2_col3\" class=\"data row2 col3\" >76.71</td>\n                        <td id=\"T_4ae1e72c_9f7e_11eb_8159_1e00da2e5098row2_col4\" class=\"data row2 col4\" >81.16</td>\n                        <td id=\"T_4ae1e72c_9f7e_11eb_8159_1e00da2e5098row2_col5\" class=\"data row2 col5\" >65.99%</td>\n                        <td id=\"T_4ae1e72c_9f7e_11eb_8159_1e00da2e5098row2_col6\" class=\"data row2 col6\" >80.74%</td>\n                        <td id=\"T_4ae1e72c_9f7e_11eb_8159_1e00da2e5098row2_col7\" class=\"data row2 col7\" >53.20%</td>\n            </tr>\n            <tr>\n                        <th id=\"T_4ae1e72c_9f7e_11eb_8159_1e00da2e5098level0_row3\" class=\"row_heading level0 row3\" >Ford High School</th>\n                        <td id=\"T_4ae1e72c_9f7e_11eb_8159_1e00da2e5098row3_col0\" class=\"data row3 col0\" >District</td>\n                        <td id=\"T_4ae1e72c_9f7e_11eb_8159_1e00da2e5098row3_col1\" class=\"data row3 col1\" >2,739</td>\n                        <td id=\"T_4ae1e72c_9f7e_11eb_8159_1e00da2e5098row3_col2\" class=\"data row3 col2\" >$1,763,916.00</td>\n                        <td id=\"T_4ae1e72c_9f7e_11eb_8159_1e00da2e5098row3_col3\" class=\"data row3 col3\" >77.10</td>\n                        <td id=\"T_4ae1e72c_9f7e_11eb_8159_1e00da2e5098row3_col4\" class=\"data row3 col4\" >80.75</td>\n                        <td id=\"T_4ae1e72c_9f7e_11eb_8159_1e00da2e5098row3_col5\" class=\"data row3 col5\" >68.31%</td>\n                        <td id=\"T_4ae1e72c_9f7e_11eb_8159_1e00da2e5098row3_col6\" class=\"data row3 col6\" >79.30%</td>\n                        <td id=\"T_4ae1e72c_9f7e_11eb_8159_1e00da2e5098row3_col7\" class=\"data row3 col7\" >54.29%</td>\n            </tr>\n            <tr>\n                        <th id=\"T_4ae1e72c_9f7e_11eb_8159_1e00da2e5098level0_row4\" class=\"row_heading level0 row4\" >Griffin High School</th>\n                        <td id=\"T_4ae1e72c_9f7e_11eb_8159_1e00da2e5098row4_col0\" class=\"data row4 col0\" >Charter</td>\n                        <td id=\"T_4ae1e72c_9f7e_11eb_8159_1e00da2e5098row4_col1\" class=\"data row4 col1\" >1,468</td>\n                        <td id=\"T_4ae1e72c_9f7e_11eb_8159_1e00da2e5098row4_col2\" class=\"data row4 col2\" >$917,500.00</td>\n                        <td id=\"T_4ae1e72c_9f7e_11eb_8159_1e00da2e5098row4_col3\" class=\"data row4 col3\" >83.35</td>\n                        <td id=\"T_4ae1e72c_9f7e_11eb_8159_1e00da2e5098row4_col4\" class=\"data row4 col4\" >83.82</td>\n                        <td id=\"T_4ae1e72c_9f7e_11eb_8159_1e00da2e5098row4_col5\" class=\"data row4 col5\" >93.39%</td>\n                        <td id=\"T_4ae1e72c_9f7e_11eb_8159_1e00da2e5098row4_col6\" class=\"data row4 col6\" >97.14%</td>\n                        <td id=\"T_4ae1e72c_9f7e_11eb_8159_1e00da2e5098row4_col7\" class=\"data row4 col7\" >90.60%</td>\n            </tr>\n            <tr>\n                        <th id=\"T_4ae1e72c_9f7e_11eb_8159_1e00da2e5098level0_row5\" class=\"row_heading level0 row5\" >Hernandez High School</th>\n                        <td id=\"T_4ae1e72c_9f7e_11eb_8159_1e00da2e5098row5_col0\" class=\"data row5 col0\" >District</td>\n                        <td id=\"T_4ae1e72c_9f7e_11eb_8159_1e00da2e5098row5_col1\" class=\"data row5 col1\" >4,635</td>\n                        <td id=\"T_4ae1e72c_9f7e_11eb_8159_1e00da2e5098row5_col2\" class=\"data row5 col2\" >$3,022,020.00</td>\n                        <td id=\"T_4ae1e72c_9f7e_11eb_8159_1e00da2e5098row5_col3\" class=\"data row5 col3\" >77.29</td>\n                        <td id=\"T_4ae1e72c_9f7e_11eb_8159_1e00da2e5098row5_col4\" class=\"data row5 col4\" >80.93</td>\n                        <td id=\"T_4ae1e72c_9f7e_11eb_8159_1e00da2e5098row5_col5\" class=\"data row5 col5\" >66.75%</td>\n                        <td id=\"T_4ae1e72c_9f7e_11eb_8159_1e00da2e5098row5_col6\" class=\"data row5 col6\" >80.86%</td>\n                        <td id=\"T_4ae1e72c_9f7e_11eb_8159_1e00da2e5098row5_col7\" class=\"data row5 col7\" >53.53%</td>\n            </tr>\n            <tr>\n                        <th id=\"T_4ae1e72c_9f7e_11eb_8159_1e00da2e5098level0_row6\" class=\"row_heading level0 row6\" >Holden High School</th>\n                        <td id=\"T_4ae1e72c_9f7e_11eb_8159_1e00da2e5098row6_col0\" class=\"data row6 col0\" >Charter</td>\n                        <td id=\"T_4ae1e72c_9f7e_11eb_8159_1e00da2e5098row6_col1\" class=\"data row6 col1\" >427</td>\n                        <td id=\"T_4ae1e72c_9f7e_11eb_8159_1e00da2e5098row6_col2\" class=\"data row6 col2\" >$248,087.00</td>\n                        <td id=\"T_4ae1e72c_9f7e_11eb_8159_1e00da2e5098row6_col3\" class=\"data row6 col3\" >83.80</td>\n                        <td id=\"T_4ae1e72c_9f7e_11eb_8159_1e00da2e5098row6_col4\" class=\"data row6 col4\" >83.81</td>\n                        <td id=\"T_4ae1e72c_9f7e_11eb_8159_1e00da2e5098row6_col5\" class=\"data row6 col5\" >92.51%</td>\n                        <td id=\"T_4ae1e72c_9f7e_11eb_8159_1e00da2e5098row6_col6\" class=\"data row6 col6\" >96.25%</td>\n                        <td id=\"T_4ae1e72c_9f7e_11eb_8159_1e00da2e5098row6_col7\" class=\"data row6 col7\" >89.23%</td>\n            </tr>\n            <tr>\n                        <th id=\"T_4ae1e72c_9f7e_11eb_8159_1e00da2e5098level0_row7\" class=\"row_heading level0 row7\" >Huang High School</th>\n                        <td id=\"T_4ae1e72c_9f7e_11eb_8159_1e00da2e5098row7_col0\" class=\"data row7 col0\" >District</td>\n                        <td id=\"T_4ae1e72c_9f7e_11eb_8159_1e00da2e5098row7_col1\" class=\"data row7 col1\" >2,917</td>\n                        <td id=\"T_4ae1e72c_9f7e_11eb_8159_1e00da2e5098row7_col2\" class=\"data row7 col2\" >$1,910,635.00</td>\n                        <td id=\"T_4ae1e72c_9f7e_11eb_8159_1e00da2e5098row7_col3\" class=\"data row7 col3\" >76.63</td>\n                        <td id=\"T_4ae1e72c_9f7e_11eb_8159_1e00da2e5098row7_col4\" class=\"data row7 col4\" >81.18</td>\n                        <td id=\"T_4ae1e72c_9f7e_11eb_8159_1e00da2e5098row7_col5\" class=\"data row7 col5\" >65.68%</td>\n                        <td id=\"T_4ae1e72c_9f7e_11eb_8159_1e00da2e5098row7_col6\" class=\"data row7 col6\" >81.32%</td>\n                        <td id=\"T_4ae1e72c_9f7e_11eb_8159_1e00da2e5098row7_col7\" class=\"data row7 col7\" >53.51%</td>\n            </tr>\n            <tr>\n                        <th id=\"T_4ae1e72c_9f7e_11eb_8159_1e00da2e5098level0_row8\" class=\"row_heading level0 row8\" >Johnson High School</th>\n                        <td id=\"T_4ae1e72c_9f7e_11eb_8159_1e00da2e5098row8_col0\" class=\"data row8 col0\" >District</td>\n                        <td id=\"T_4ae1e72c_9f7e_11eb_8159_1e00da2e5098row8_col1\" class=\"data row8 col1\" >4,761</td>\n                        <td id=\"T_4ae1e72c_9f7e_11eb_8159_1e00da2e5098row8_col2\" class=\"data row8 col2\" >$3,094,650.00</td>\n                        <td id=\"T_4ae1e72c_9f7e_11eb_8159_1e00da2e5098row8_col3\" class=\"data row8 col3\" >77.07</td>\n                        <td id=\"T_4ae1e72c_9f7e_11eb_8159_1e00da2e5098row8_col4\" class=\"data row8 col4\" >80.97</td>\n                        <td id=\"T_4ae1e72c_9f7e_11eb_8159_1e00da2e5098row8_col5\" class=\"data row8 col5\" >66.06%</td>\n                        <td id=\"T_4ae1e72c_9f7e_11eb_8159_1e00da2e5098row8_col6\" class=\"data row8 col6\" >81.22%</td>\n                        <td id=\"T_4ae1e72c_9f7e_11eb_8159_1e00da2e5098row8_col7\" class=\"data row8 col7\" >53.54%</td>\n            </tr>\n            <tr>\n                        <th id=\"T_4ae1e72c_9f7e_11eb_8159_1e00da2e5098level0_row9\" class=\"row_heading level0 row9\" >Pena High School</th>\n                        <td id=\"T_4ae1e72c_9f7e_11eb_8159_1e00da2e5098row9_col0\" class=\"data row9 col0\" >Charter</td>\n                        <td id=\"T_4ae1e72c_9f7e_11eb_8159_1e00da2e5098row9_col1\" class=\"data row9 col1\" >962</td>\n                        <td id=\"T_4ae1e72c_9f7e_11eb_8159_1e00da2e5098row9_col2\" class=\"data row9 col2\" >$585,858.00</td>\n                        <td id=\"T_4ae1e72c_9f7e_11eb_8159_1e00da2e5098row9_col3\" class=\"data row9 col3\" >83.84</td>\n                        <td id=\"T_4ae1e72c_9f7e_11eb_8159_1e00da2e5098row9_col4\" class=\"data row9 col4\" >84.04</td>\n                        <td id=\"T_4ae1e72c_9f7e_11eb_8159_1e00da2e5098row9_col5\" class=\"data row9 col5\" >94.59%</td>\n                        <td id=\"T_4ae1e72c_9f7e_11eb_8159_1e00da2e5098row9_col6\" class=\"data row9 col6\" >95.95%</td>\n                        <td id=\"T_4ae1e72c_9f7e_11eb_8159_1e00da2e5098row9_col7\" class=\"data row9 col7\" >90.54%</td>\n            </tr>\n            <tr>\n                        <th id=\"T_4ae1e72c_9f7e_11eb_8159_1e00da2e5098level0_row10\" class=\"row_heading level0 row10\" >Rodriguez High School</th>\n                        <td id=\"T_4ae1e72c_9f7e_11eb_8159_1e00da2e5098row10_col0\" class=\"data row10 col0\" >District</td>\n                        <td id=\"T_4ae1e72c_9f7e_11eb_8159_1e00da2e5098row10_col1\" class=\"data row10 col1\" >3,999</td>\n                        <td id=\"T_4ae1e72c_9f7e_11eb_8159_1e00da2e5098row10_col2\" class=\"data row10 col2\" >$2,547,363.00</td>\n                        <td id=\"T_4ae1e72c_9f7e_11eb_8159_1e00da2e5098row10_col3\" class=\"data row10 col3\" >76.84</td>\n                        <td id=\"T_4ae1e72c_9f7e_11eb_8159_1e00da2e5098row10_col4\" class=\"data row10 col4\" >80.74</td>\n                        <td id=\"T_4ae1e72c_9f7e_11eb_8159_1e00da2e5098row10_col5\" class=\"data row10 col5\" >66.37%</td>\n                        <td id=\"T_4ae1e72c_9f7e_11eb_8159_1e00da2e5098row10_col6\" class=\"data row10 col6\" >80.22%</td>\n                        <td id=\"T_4ae1e72c_9f7e_11eb_8159_1e00da2e5098row10_col7\" class=\"data row10 col7\" >52.99%</td>\n            </tr>\n            <tr>\n                        <th id=\"T_4ae1e72c_9f7e_11eb_8159_1e00da2e5098level0_row11\" class=\"row_heading level0 row11\" >Shelton High School</th>\n                        <td id=\"T_4ae1e72c_9f7e_11eb_8159_1e00da2e5098row11_col0\" class=\"data row11 col0\" >Charter</td>\n                        <td id=\"T_4ae1e72c_9f7e_11eb_8159_1e00da2e5098row11_col1\" class=\"data row11 col1\" >1,761</td>\n                        <td id=\"T_4ae1e72c_9f7e_11eb_8159_1e00da2e5098row11_col2\" class=\"data row11 col2\" >$1,056,600.00</td>\n                        <td id=\"T_4ae1e72c_9f7e_11eb_8159_1e00da2e5098row11_col3\" class=\"data row11 col3\" >83.36</td>\n                        <td id=\"T_4ae1e72c_9f7e_11eb_8159_1e00da2e5098row11_col4\" class=\"data row11 col4\" >83.73</td>\n                        <td id=\"T_4ae1e72c_9f7e_11eb_8159_1e00da2e5098row11_col5\" class=\"data row11 col5\" >93.87%</td>\n                        <td id=\"T_4ae1e72c_9f7e_11eb_8159_1e00da2e5098row11_col6\" class=\"data row11 col6\" >95.85%</td>\n                        <td id=\"T_4ae1e72c_9f7e_11eb_8159_1e00da2e5098row11_col7\" class=\"data row11 col7\" >89.89%</td>\n            </tr>\n            <tr>\n                        <th id=\"T_4ae1e72c_9f7e_11eb_8159_1e00da2e5098level0_row12\" class=\"row_heading level0 row12\" >Thomas High School</th>\n                        <td id=\"T_4ae1e72c_9f7e_11eb_8159_1e00da2e5098row12_col0\" class=\"data row12 col0\" >Charter</td>\n                        <td id=\"T_4ae1e72c_9f7e_11eb_8159_1e00da2e5098row12_col1\" class=\"data row12 col1\" >1,635</td>\n                        <td id=\"T_4ae1e72c_9f7e_11eb_8159_1e00da2e5098row12_col2\" class=\"data row12 col2\" >$1,043,130.00</td>\n                        <td id=\"T_4ae1e72c_9f7e_11eb_8159_1e00da2e5098row12_col3\" class=\"data row12 col3\" >83.42</td>\n                        <td id=\"T_4ae1e72c_9f7e_11eb_8159_1e00da2e5098row12_col4\" class=\"data row12 col4\" >83.85</td>\n                        <td id=\"T_4ae1e72c_9f7e_11eb_8159_1e00da2e5098row12_col5\" class=\"data row12 col5\" >93.27%</td>\n                        <td id=\"T_4ae1e72c_9f7e_11eb_8159_1e00da2e5098row12_col6\" class=\"data row12 col6\" >97.31%</td>\n                        <td id=\"T_4ae1e72c_9f7e_11eb_8159_1e00da2e5098row12_col7\" class=\"data row12 col7\" >90.95%</td>\n            </tr>\n            <tr>\n                        <th id=\"T_4ae1e72c_9f7e_11eb_8159_1e00da2e5098level0_row13\" class=\"row_heading level0 row13\" >Wilson High School</th>\n                        <td id=\"T_4ae1e72c_9f7e_11eb_8159_1e00da2e5098row13_col0\" class=\"data row13 col0\" >Charter</td>\n                        <td id=\"T_4ae1e72c_9f7e_11eb_8159_1e00da2e5098row13_col1\" class=\"data row13 col1\" >2,283</td>\n                        <td id=\"T_4ae1e72c_9f7e_11eb_8159_1e00da2e5098row13_col2\" class=\"data row13 col2\" >$1,319,574.00</td>\n                        <td id=\"T_4ae1e72c_9f7e_11eb_8159_1e00da2e5098row13_col3\" class=\"data row13 col3\" >83.27</td>\n                        <td id=\"T_4ae1e72c_9f7e_11eb_8159_1e00da2e5098row13_col4\" class=\"data row13 col4\" >83.99</td>\n                        <td id=\"T_4ae1e72c_9f7e_11eb_8159_1e00da2e5098row13_col5\" class=\"data row13 col5\" >93.87%</td>\n                        <td id=\"T_4ae1e72c_9f7e_11eb_8159_1e00da2e5098row13_col6\" class=\"data row13 col6\" >96.54%</td>\n                        <td id=\"T_4ae1e72c_9f7e_11eb_8159_1e00da2e5098row13_col7\" class=\"data row13 col7\" >90.58%</td>\n            </tr>\n            <tr>\n                        <th id=\"T_4ae1e72c_9f7e_11eb_8159_1e00da2e5098level0_row14\" class=\"row_heading level0 row14\" >Wright High School</th>\n                        <td id=\"T_4ae1e72c_9f7e_11eb_8159_1e00da2e5098row14_col0\" class=\"data row14 col0\" >Charter</td>\n                        <td id=\"T_4ae1e72c_9f7e_11eb_8159_1e00da2e5098row14_col1\" class=\"data row14 col1\" >1,800</td>\n                        <td id=\"T_4ae1e72c_9f7e_11eb_8159_1e00da2e5098row14_col2\" class=\"data row14 col2\" >$1,049,400.00</td>\n                        <td id=\"T_4ae1e72c_9f7e_11eb_8159_1e00da2e5098row14_col3\" class=\"data row14 col3\" >83.68</td>\n                        <td id=\"T_4ae1e72c_9f7e_11eb_8159_1e00da2e5098row14_col4\" class=\"data row14 col4\" >83.95</td>\n                        <td id=\"T_4ae1e72c_9f7e_11eb_8159_1e00da2e5098row14_col5\" class=\"data row14 col5\" >93.33%</td>\n                        <td id=\"T_4ae1e72c_9f7e_11eb_8159_1e00da2e5098row14_col6\" class=\"data row14 col6\" >96.61%</td>\n                        <td id=\"T_4ae1e72c_9f7e_11eb_8159_1e00da2e5098row14_col7\" class=\"data row14 col7\" >90.33%</td>\n            </tr>\n    </tbody></table>"
     },
     "metadata": {},
     "execution_count": 280
    }
   ],
   "source": [
    "all_school_summary"
   ]
  },
  {
   "cell_type": "markdown",
   "metadata": {},
   "source": [
    "## Top Performing Schools (By % Overall Passing)"
   ]
  },
  {
   "cell_type": "markdown",
   "metadata": {},
   "source": [
    "* Sort and display the top five performing schools by % overall passing."
   ]
  },
  {
   "cell_type": "code",
   "execution_count": 281,
   "metadata": {},
   "outputs": [
    {
     "output_type": "execute_result",
     "data": {
      "text/plain": [
       "<pandas.io.formats.style.Styler at 0x7ff558520910>"
      ],
      "text/html": "<style  type=\"text/css\" >\n</style><table id=\"T_4ae44d78_9f7e_11eb_8159_1e00da2e5098\" ><thead>    <tr>        <th class=\"blank level0\" ></th>        <th class=\"col_heading level0 col0\" >School Type</th>        <th class=\"col_heading level0 col1\" >Total Students</th>        <th class=\"col_heading level0 col2\" >Total School Budget</th>        <th class=\"col_heading level0 col3\" >Average Math Score</th>        <th class=\"col_heading level0 col4\" >Average Reading Score</th>        <th class=\"col_heading level0 col5\" >% Passing Math</th>        <th class=\"col_heading level0 col6\" >% Passing Reading</th>        <th class=\"col_heading level0 col7\" >% Overall Passing</th>    </tr>    <tr>        <th class=\"index_name level0\" >school_name</th>        <th class=\"blank\" ></th>        <th class=\"blank\" ></th>        <th class=\"blank\" ></th>        <th class=\"blank\" ></th>        <th class=\"blank\" ></th>        <th class=\"blank\" ></th>        <th class=\"blank\" ></th>        <th class=\"blank\" ></th>    </tr></thead><tbody>\n                <tr>\n                        <th id=\"T_4ae44d78_9f7e_11eb_8159_1e00da2e5098level0_row0\" class=\"row_heading level0 row0\" >Cabrera High School</th>\n                        <td id=\"T_4ae44d78_9f7e_11eb_8159_1e00da2e5098row0_col0\" class=\"data row0 col0\" >Charter</td>\n                        <td id=\"T_4ae44d78_9f7e_11eb_8159_1e00da2e5098row0_col1\" class=\"data row0 col1\" >1,858</td>\n                        <td id=\"T_4ae44d78_9f7e_11eb_8159_1e00da2e5098row0_col2\" class=\"data row0 col2\" >$1,081,356.00</td>\n                        <td id=\"T_4ae44d78_9f7e_11eb_8159_1e00da2e5098row0_col3\" class=\"data row0 col3\" >83.06</td>\n                        <td id=\"T_4ae44d78_9f7e_11eb_8159_1e00da2e5098row0_col4\" class=\"data row0 col4\" >83.98</td>\n                        <td id=\"T_4ae44d78_9f7e_11eb_8159_1e00da2e5098row0_col5\" class=\"data row0 col5\" >94.13%</td>\n                        <td id=\"T_4ae44d78_9f7e_11eb_8159_1e00da2e5098row0_col6\" class=\"data row0 col6\" >97.04%</td>\n                        <td id=\"T_4ae44d78_9f7e_11eb_8159_1e00da2e5098row0_col7\" class=\"data row0 col7\" >91.33%</td>\n            </tr>\n            <tr>\n                        <th id=\"T_4ae44d78_9f7e_11eb_8159_1e00da2e5098level0_row1\" class=\"row_heading level0 row1\" >Thomas High School</th>\n                        <td id=\"T_4ae44d78_9f7e_11eb_8159_1e00da2e5098row1_col0\" class=\"data row1 col0\" >Charter</td>\n                        <td id=\"T_4ae44d78_9f7e_11eb_8159_1e00da2e5098row1_col1\" class=\"data row1 col1\" >1,635</td>\n                        <td id=\"T_4ae44d78_9f7e_11eb_8159_1e00da2e5098row1_col2\" class=\"data row1 col2\" >$1,043,130.00</td>\n                        <td id=\"T_4ae44d78_9f7e_11eb_8159_1e00da2e5098row1_col3\" class=\"data row1 col3\" >83.42</td>\n                        <td id=\"T_4ae44d78_9f7e_11eb_8159_1e00da2e5098row1_col4\" class=\"data row1 col4\" >83.85</td>\n                        <td id=\"T_4ae44d78_9f7e_11eb_8159_1e00da2e5098row1_col5\" class=\"data row1 col5\" >93.27%</td>\n                        <td id=\"T_4ae44d78_9f7e_11eb_8159_1e00da2e5098row1_col6\" class=\"data row1 col6\" >97.31%</td>\n                        <td id=\"T_4ae44d78_9f7e_11eb_8159_1e00da2e5098row1_col7\" class=\"data row1 col7\" >90.95%</td>\n            </tr>\n            <tr>\n                        <th id=\"T_4ae44d78_9f7e_11eb_8159_1e00da2e5098level0_row2\" class=\"row_heading level0 row2\" >Griffin High School</th>\n                        <td id=\"T_4ae44d78_9f7e_11eb_8159_1e00da2e5098row2_col0\" class=\"data row2 col0\" >Charter</td>\n                        <td id=\"T_4ae44d78_9f7e_11eb_8159_1e00da2e5098row2_col1\" class=\"data row2 col1\" >1,468</td>\n                        <td id=\"T_4ae44d78_9f7e_11eb_8159_1e00da2e5098row2_col2\" class=\"data row2 col2\" >$917,500.00</td>\n                        <td id=\"T_4ae44d78_9f7e_11eb_8159_1e00da2e5098row2_col3\" class=\"data row2 col3\" >83.35</td>\n                        <td id=\"T_4ae44d78_9f7e_11eb_8159_1e00da2e5098row2_col4\" class=\"data row2 col4\" >83.82</td>\n                        <td id=\"T_4ae44d78_9f7e_11eb_8159_1e00da2e5098row2_col5\" class=\"data row2 col5\" >93.39%</td>\n                        <td id=\"T_4ae44d78_9f7e_11eb_8159_1e00da2e5098row2_col6\" class=\"data row2 col6\" >97.14%</td>\n                        <td id=\"T_4ae44d78_9f7e_11eb_8159_1e00da2e5098row2_col7\" class=\"data row2 col7\" >90.60%</td>\n            </tr>\n            <tr>\n                        <th id=\"T_4ae44d78_9f7e_11eb_8159_1e00da2e5098level0_row3\" class=\"row_heading level0 row3\" >Wilson High School</th>\n                        <td id=\"T_4ae44d78_9f7e_11eb_8159_1e00da2e5098row3_col0\" class=\"data row3 col0\" >Charter</td>\n                        <td id=\"T_4ae44d78_9f7e_11eb_8159_1e00da2e5098row3_col1\" class=\"data row3 col1\" >2,283</td>\n                        <td id=\"T_4ae44d78_9f7e_11eb_8159_1e00da2e5098row3_col2\" class=\"data row3 col2\" >$1,319,574.00</td>\n                        <td id=\"T_4ae44d78_9f7e_11eb_8159_1e00da2e5098row3_col3\" class=\"data row3 col3\" >83.27</td>\n                        <td id=\"T_4ae44d78_9f7e_11eb_8159_1e00da2e5098row3_col4\" class=\"data row3 col4\" >83.99</td>\n                        <td id=\"T_4ae44d78_9f7e_11eb_8159_1e00da2e5098row3_col5\" class=\"data row3 col5\" >93.87%</td>\n                        <td id=\"T_4ae44d78_9f7e_11eb_8159_1e00da2e5098row3_col6\" class=\"data row3 col6\" >96.54%</td>\n                        <td id=\"T_4ae44d78_9f7e_11eb_8159_1e00da2e5098row3_col7\" class=\"data row3 col7\" >90.58%</td>\n            </tr>\n            <tr>\n                        <th id=\"T_4ae44d78_9f7e_11eb_8159_1e00da2e5098level0_row4\" class=\"row_heading level0 row4\" >Pena High School</th>\n                        <td id=\"T_4ae44d78_9f7e_11eb_8159_1e00da2e5098row4_col0\" class=\"data row4 col0\" >Charter</td>\n                        <td id=\"T_4ae44d78_9f7e_11eb_8159_1e00da2e5098row4_col1\" class=\"data row4 col1\" >962</td>\n                        <td id=\"T_4ae44d78_9f7e_11eb_8159_1e00da2e5098row4_col2\" class=\"data row4 col2\" >$585,858.00</td>\n                        <td id=\"T_4ae44d78_9f7e_11eb_8159_1e00da2e5098row4_col3\" class=\"data row4 col3\" >83.84</td>\n                        <td id=\"T_4ae44d78_9f7e_11eb_8159_1e00da2e5098row4_col4\" class=\"data row4 col4\" >84.04</td>\n                        <td id=\"T_4ae44d78_9f7e_11eb_8159_1e00da2e5098row4_col5\" class=\"data row4 col5\" >94.59%</td>\n                        <td id=\"T_4ae44d78_9f7e_11eb_8159_1e00da2e5098row4_col6\" class=\"data row4 col6\" >95.95%</td>\n                        <td id=\"T_4ae44d78_9f7e_11eb_8159_1e00da2e5098row4_col7\" class=\"data row4 col7\" >90.54%</td>\n            </tr>\n    </tbody></table>"
     },
     "metadata": {},
     "execution_count": 281
    }
   ],
   "source": [
    "top_five = renamed_school_data.sort_values(by='% Overall Passing', ascending=False).head(5)\n",
    "top_five_summary = top_five.style.format(format_dict)\n",
    "top_five_summary\n",
    "\n",
    "#top_five = renamed_school_data.style.format(format_dict).head(5)"
   ]
  },
  {
   "cell_type": "markdown",
   "metadata": {},
   "source": [
    "## Bottom Performing Schools (By % Overall Passing)"
   ]
  },
  {
   "cell_type": "markdown",
   "metadata": {},
   "source": [
    "* Sort and display the five worst-performing schools by % overall passing."
   ]
  },
  {
   "cell_type": "code",
   "execution_count": 282,
   "metadata": {},
   "outputs": [
    {
     "output_type": "execute_result",
     "data": {
      "text/plain": [
       "<pandas.io.formats.style.Styler at 0x7ff5a59fb880>"
      ],
      "text/html": "<style  type=\"text/css\" >\n</style><table id=\"T_4ae61720_9f7e_11eb_8159_1e00da2e5098\" ><thead>    <tr>        <th class=\"blank level0\" ></th>        <th class=\"col_heading level0 col0\" >School Type</th>        <th class=\"col_heading level0 col1\" >Total Students</th>        <th class=\"col_heading level0 col2\" >Total School Budget</th>        <th class=\"col_heading level0 col3\" >Average Math Score</th>        <th class=\"col_heading level0 col4\" >Average Reading Score</th>        <th class=\"col_heading level0 col5\" >% Passing Math</th>        <th class=\"col_heading level0 col6\" >% Passing Reading</th>        <th class=\"col_heading level0 col7\" >% Overall Passing</th>    </tr>    <tr>        <th class=\"index_name level0\" >school_name</th>        <th class=\"blank\" ></th>        <th class=\"blank\" ></th>        <th class=\"blank\" ></th>        <th class=\"blank\" ></th>        <th class=\"blank\" ></th>        <th class=\"blank\" ></th>        <th class=\"blank\" ></th>        <th class=\"blank\" ></th>    </tr></thead><tbody>\n                <tr>\n                        <th id=\"T_4ae61720_9f7e_11eb_8159_1e00da2e5098level0_row0\" class=\"row_heading level0 row0\" >Rodriguez High School</th>\n                        <td id=\"T_4ae61720_9f7e_11eb_8159_1e00da2e5098row0_col0\" class=\"data row0 col0\" >District</td>\n                        <td id=\"T_4ae61720_9f7e_11eb_8159_1e00da2e5098row0_col1\" class=\"data row0 col1\" >3,999</td>\n                        <td id=\"T_4ae61720_9f7e_11eb_8159_1e00da2e5098row0_col2\" class=\"data row0 col2\" >$2,547,363.00</td>\n                        <td id=\"T_4ae61720_9f7e_11eb_8159_1e00da2e5098row0_col3\" class=\"data row0 col3\" >76.84</td>\n                        <td id=\"T_4ae61720_9f7e_11eb_8159_1e00da2e5098row0_col4\" class=\"data row0 col4\" >80.74</td>\n                        <td id=\"T_4ae61720_9f7e_11eb_8159_1e00da2e5098row0_col5\" class=\"data row0 col5\" >66.37%</td>\n                        <td id=\"T_4ae61720_9f7e_11eb_8159_1e00da2e5098row0_col6\" class=\"data row0 col6\" >80.22%</td>\n                        <td id=\"T_4ae61720_9f7e_11eb_8159_1e00da2e5098row0_col7\" class=\"data row0 col7\" >52.99%</td>\n            </tr>\n            <tr>\n                        <th id=\"T_4ae61720_9f7e_11eb_8159_1e00da2e5098level0_row1\" class=\"row_heading level0 row1\" >Figueroa High School</th>\n                        <td id=\"T_4ae61720_9f7e_11eb_8159_1e00da2e5098row1_col0\" class=\"data row1 col0\" >District</td>\n                        <td id=\"T_4ae61720_9f7e_11eb_8159_1e00da2e5098row1_col1\" class=\"data row1 col1\" >2,949</td>\n                        <td id=\"T_4ae61720_9f7e_11eb_8159_1e00da2e5098row1_col2\" class=\"data row1 col2\" >$1,884,411.00</td>\n                        <td id=\"T_4ae61720_9f7e_11eb_8159_1e00da2e5098row1_col3\" class=\"data row1 col3\" >76.71</td>\n                        <td id=\"T_4ae61720_9f7e_11eb_8159_1e00da2e5098row1_col4\" class=\"data row1 col4\" >81.16</td>\n                        <td id=\"T_4ae61720_9f7e_11eb_8159_1e00da2e5098row1_col5\" class=\"data row1 col5\" >65.99%</td>\n                        <td id=\"T_4ae61720_9f7e_11eb_8159_1e00da2e5098row1_col6\" class=\"data row1 col6\" >80.74%</td>\n                        <td id=\"T_4ae61720_9f7e_11eb_8159_1e00da2e5098row1_col7\" class=\"data row1 col7\" >53.20%</td>\n            </tr>\n            <tr>\n                        <th id=\"T_4ae61720_9f7e_11eb_8159_1e00da2e5098level0_row2\" class=\"row_heading level0 row2\" >Huang High School</th>\n                        <td id=\"T_4ae61720_9f7e_11eb_8159_1e00da2e5098row2_col0\" class=\"data row2 col0\" >District</td>\n                        <td id=\"T_4ae61720_9f7e_11eb_8159_1e00da2e5098row2_col1\" class=\"data row2 col1\" >2,917</td>\n                        <td id=\"T_4ae61720_9f7e_11eb_8159_1e00da2e5098row2_col2\" class=\"data row2 col2\" >$1,910,635.00</td>\n                        <td id=\"T_4ae61720_9f7e_11eb_8159_1e00da2e5098row2_col3\" class=\"data row2 col3\" >76.63</td>\n                        <td id=\"T_4ae61720_9f7e_11eb_8159_1e00da2e5098row2_col4\" class=\"data row2 col4\" >81.18</td>\n                        <td id=\"T_4ae61720_9f7e_11eb_8159_1e00da2e5098row2_col5\" class=\"data row2 col5\" >65.68%</td>\n                        <td id=\"T_4ae61720_9f7e_11eb_8159_1e00da2e5098row2_col6\" class=\"data row2 col6\" >81.32%</td>\n                        <td id=\"T_4ae61720_9f7e_11eb_8159_1e00da2e5098row2_col7\" class=\"data row2 col7\" >53.51%</td>\n            </tr>\n            <tr>\n                        <th id=\"T_4ae61720_9f7e_11eb_8159_1e00da2e5098level0_row3\" class=\"row_heading level0 row3\" >Hernandez High School</th>\n                        <td id=\"T_4ae61720_9f7e_11eb_8159_1e00da2e5098row3_col0\" class=\"data row3 col0\" >District</td>\n                        <td id=\"T_4ae61720_9f7e_11eb_8159_1e00da2e5098row3_col1\" class=\"data row3 col1\" >4,635</td>\n                        <td id=\"T_4ae61720_9f7e_11eb_8159_1e00da2e5098row3_col2\" class=\"data row3 col2\" >$3,022,020.00</td>\n                        <td id=\"T_4ae61720_9f7e_11eb_8159_1e00da2e5098row3_col3\" class=\"data row3 col3\" >77.29</td>\n                        <td id=\"T_4ae61720_9f7e_11eb_8159_1e00da2e5098row3_col4\" class=\"data row3 col4\" >80.93</td>\n                        <td id=\"T_4ae61720_9f7e_11eb_8159_1e00da2e5098row3_col5\" class=\"data row3 col5\" >66.75%</td>\n                        <td id=\"T_4ae61720_9f7e_11eb_8159_1e00da2e5098row3_col6\" class=\"data row3 col6\" >80.86%</td>\n                        <td id=\"T_4ae61720_9f7e_11eb_8159_1e00da2e5098row3_col7\" class=\"data row3 col7\" >53.53%</td>\n            </tr>\n            <tr>\n                        <th id=\"T_4ae61720_9f7e_11eb_8159_1e00da2e5098level0_row4\" class=\"row_heading level0 row4\" >Johnson High School</th>\n                        <td id=\"T_4ae61720_9f7e_11eb_8159_1e00da2e5098row4_col0\" class=\"data row4 col0\" >District</td>\n                        <td id=\"T_4ae61720_9f7e_11eb_8159_1e00da2e5098row4_col1\" class=\"data row4 col1\" >4,761</td>\n                        <td id=\"T_4ae61720_9f7e_11eb_8159_1e00da2e5098row4_col2\" class=\"data row4 col2\" >$3,094,650.00</td>\n                        <td id=\"T_4ae61720_9f7e_11eb_8159_1e00da2e5098row4_col3\" class=\"data row4 col3\" >77.07</td>\n                        <td id=\"T_4ae61720_9f7e_11eb_8159_1e00da2e5098row4_col4\" class=\"data row4 col4\" >80.97</td>\n                        <td id=\"T_4ae61720_9f7e_11eb_8159_1e00da2e5098row4_col5\" class=\"data row4 col5\" >66.06%</td>\n                        <td id=\"T_4ae61720_9f7e_11eb_8159_1e00da2e5098row4_col6\" class=\"data row4 col6\" >81.22%</td>\n                        <td id=\"T_4ae61720_9f7e_11eb_8159_1e00da2e5098row4_col7\" class=\"data row4 col7\" >53.54%</td>\n            </tr>\n    </tbody></table>"
     },
     "metadata": {},
     "execution_count": 282
    }
   ],
   "source": [
    "bottom_five = renamed_school_data.sort_values(by='% Overall Passing', ascending=True).head(5)\n",
    "bottom_five_summary = bottom_five.style.format(format_dict)\n",
    "bottom_five_summary"
   ]
  },
  {
   "cell_type": "markdown",
   "metadata": {
    "collapsed": true
   },
   "source": [
    "## Math Scores by Grade"
   ]
  },
  {
   "cell_type": "markdown",
   "metadata": {},
   "source": [
    "* Create a table that lists the average Math Score for students of each grade level (9th, 10th, 11th, 12th) at each school.\n",
    "\n",
    "  * Create a pandas series for each grade. Hint: use a conditional statement.\n",
    "  \n",
    "  * Group each series by school\n",
    "  \n",
    "  * Combine the series into a dataframe\n",
    "  \n",
    "  * Optional: give the displayed data cleaner formatting"
   ]
  },
  {
   "cell_type": "code",
   "execution_count": 283,
   "metadata": {},
   "outputs": [
    {
     "output_type": "execute_result",
     "data": {
      "text/plain": [
       "grade                        9th       10th       11th       12th\n",
       "school_name                                                      \n",
       "Bailey High School     77.083676  76.996772  77.515588  76.492218\n",
       "Cabrera High School    83.094697  83.154506  82.765560  83.277487\n",
       "Figueroa High School   76.403037  76.539974  76.884344  77.151369\n",
       "Ford High School       77.361345  77.672316  76.918058  76.179963\n",
       "Griffin High School    82.044010  84.229064  83.842105  83.356164\n",
       "Hernandez High School  77.438495  77.337408  77.136029  77.186567\n",
       "Holden High School     83.787402  83.429825  85.000000  82.855422\n",
       "Huang High School      77.027251  75.908735  76.446602  77.225641\n",
       "Johnson High School    77.187857  76.691117  77.491653  76.863248\n",
       "Pena High School       83.625455  83.372000  84.328125  84.121547\n",
       "Rodriguez High School  76.859966  76.612500  76.395626  77.690748\n",
       "Shelton High School    83.420755  82.917411  83.383495  83.778976\n",
       "Thomas High School     83.590022  83.087886  83.498795  83.497041\n",
       "Wilson High School     83.085578  83.724422  83.195326  83.035794\n",
       "Wright High School     83.264706  84.010288  83.836782  83.644986"
      ],
      "text/html": "<div>\n<style scoped>\n    .dataframe tbody tr th:only-of-type {\n        vertical-align: middle;\n    }\n\n    .dataframe tbody tr th {\n        vertical-align: top;\n    }\n\n    .dataframe thead th {\n        text-align: right;\n    }\n</style>\n<table border=\"1\" class=\"dataframe\">\n  <thead>\n    <tr style=\"text-align: right;\">\n      <th>grade</th>\n      <th>9th</th>\n      <th>10th</th>\n      <th>11th</th>\n      <th>12th</th>\n    </tr>\n    <tr>\n      <th>school_name</th>\n      <th></th>\n      <th></th>\n      <th></th>\n      <th></th>\n    </tr>\n  </thead>\n  <tbody>\n    <tr>\n      <th>Bailey High School</th>\n      <td>77.083676</td>\n      <td>76.996772</td>\n      <td>77.515588</td>\n      <td>76.492218</td>\n    </tr>\n    <tr>\n      <th>Cabrera High School</th>\n      <td>83.094697</td>\n      <td>83.154506</td>\n      <td>82.765560</td>\n      <td>83.277487</td>\n    </tr>\n    <tr>\n      <th>Figueroa High School</th>\n      <td>76.403037</td>\n      <td>76.539974</td>\n      <td>76.884344</td>\n      <td>77.151369</td>\n    </tr>\n    <tr>\n      <th>Ford High School</th>\n      <td>77.361345</td>\n      <td>77.672316</td>\n      <td>76.918058</td>\n      <td>76.179963</td>\n    </tr>\n    <tr>\n      <th>Griffin High School</th>\n      <td>82.044010</td>\n      <td>84.229064</td>\n      <td>83.842105</td>\n      <td>83.356164</td>\n    </tr>\n    <tr>\n      <th>Hernandez High School</th>\n      <td>77.438495</td>\n      <td>77.337408</td>\n      <td>77.136029</td>\n      <td>77.186567</td>\n    </tr>\n    <tr>\n      <th>Holden High School</th>\n      <td>83.787402</td>\n      <td>83.429825</td>\n      <td>85.000000</td>\n      <td>82.855422</td>\n    </tr>\n    <tr>\n      <th>Huang High School</th>\n      <td>77.027251</td>\n      <td>75.908735</td>\n      <td>76.446602</td>\n      <td>77.225641</td>\n    </tr>\n    <tr>\n      <th>Johnson High School</th>\n      <td>77.187857</td>\n      <td>76.691117</td>\n      <td>77.491653</td>\n      <td>76.863248</td>\n    </tr>\n    <tr>\n      <th>Pena High School</th>\n      <td>83.625455</td>\n      <td>83.372000</td>\n      <td>84.328125</td>\n      <td>84.121547</td>\n    </tr>\n    <tr>\n      <th>Rodriguez High School</th>\n      <td>76.859966</td>\n      <td>76.612500</td>\n      <td>76.395626</td>\n      <td>77.690748</td>\n    </tr>\n    <tr>\n      <th>Shelton High School</th>\n      <td>83.420755</td>\n      <td>82.917411</td>\n      <td>83.383495</td>\n      <td>83.778976</td>\n    </tr>\n    <tr>\n      <th>Thomas High School</th>\n      <td>83.590022</td>\n      <td>83.087886</td>\n      <td>83.498795</td>\n      <td>83.497041</td>\n    </tr>\n    <tr>\n      <th>Wilson High School</th>\n      <td>83.085578</td>\n      <td>83.724422</td>\n      <td>83.195326</td>\n      <td>83.035794</td>\n    </tr>\n    <tr>\n      <th>Wright High School</th>\n      <td>83.264706</td>\n      <td>84.010288</td>\n      <td>83.836782</td>\n      <td>83.644986</td>\n    </tr>\n  </tbody>\n</table>\n</div>"
     },
     "metadata": {},
     "execution_count": 283
    }
   ],
   "source": [
    "#I did the merge method above, so I am trying something different here.\n",
    "\n",
    "#create a pivot table\n",
    "import numpy as np\n",
    "math_table = pd.pivot_table(school_data_complete, values='math_score', index=['school_name'], columns=['grade'], aggfunc=np.mean)\n",
    "\n",
    "#reorder the columns\n",
    "column_order = ['9th', '10th', '11th', '12th']\n",
    "math_table1 = math_table.reindex(column_order, axis=1)\n",
    "\n",
    "math_table1\n"
   ]
  },
  {
   "cell_type": "markdown",
   "metadata": {},
   "source": [
    "## Reading Score by Grade "
   ]
  },
  {
   "cell_type": "markdown",
   "metadata": {},
   "source": [
    "* Perform the same operations as above for reading scores"
   ]
  },
  {
   "cell_type": "code",
   "execution_count": 284,
   "metadata": {},
   "outputs": [
    {
     "output_type": "execute_result",
     "data": {
      "text/plain": [
       "grade                        9th       10th       11th       12th\n",
       "school_name                                                      \n",
       "Bailey High School     81.303155  80.907183  80.945643  80.912451\n",
       "Cabrera High School    83.676136  84.253219  83.788382  84.287958\n",
       "Figueroa High School   81.198598  81.408912  80.640339  81.384863\n",
       "Ford High School       80.632653  81.262712  80.403642  80.662338\n",
       "Griffin High School    83.369193  83.706897  84.288089  84.013699\n",
       "Hernandez High School  80.866860  80.660147  81.396140  80.857143\n",
       "Holden High School     83.677165  83.324561  83.815534  84.698795\n",
       "Huang High School      81.290284  81.512386  81.417476  80.305983\n",
       "Johnson High School    81.260714  80.773431  80.616027  81.227564\n",
       "Pena High School       83.807273  83.612000  84.335938  84.591160\n",
       "Rodriguez High School  80.993127  80.629808  80.864811  80.376426\n",
       "Shelton High School    84.122642  83.441964  84.373786  82.781671\n",
       "Thomas High School     83.728850  84.254157  83.585542  83.831361\n",
       "Wilson High School     83.939778  84.021452  83.764608  84.317673\n",
       "Wright High School     83.833333  83.812757  84.156322  84.073171"
      ],
      "text/html": "<div>\n<style scoped>\n    .dataframe tbody tr th:only-of-type {\n        vertical-align: middle;\n    }\n\n    .dataframe tbody tr th {\n        vertical-align: top;\n    }\n\n    .dataframe thead th {\n        text-align: right;\n    }\n</style>\n<table border=\"1\" class=\"dataframe\">\n  <thead>\n    <tr style=\"text-align: right;\">\n      <th>grade</th>\n      <th>9th</th>\n      <th>10th</th>\n      <th>11th</th>\n      <th>12th</th>\n    </tr>\n    <tr>\n      <th>school_name</th>\n      <th></th>\n      <th></th>\n      <th></th>\n      <th></th>\n    </tr>\n  </thead>\n  <tbody>\n    <tr>\n      <th>Bailey High School</th>\n      <td>81.303155</td>\n      <td>80.907183</td>\n      <td>80.945643</td>\n      <td>80.912451</td>\n    </tr>\n    <tr>\n      <th>Cabrera High School</th>\n      <td>83.676136</td>\n      <td>84.253219</td>\n      <td>83.788382</td>\n      <td>84.287958</td>\n    </tr>\n    <tr>\n      <th>Figueroa High School</th>\n      <td>81.198598</td>\n      <td>81.408912</td>\n      <td>80.640339</td>\n      <td>81.384863</td>\n    </tr>\n    <tr>\n      <th>Ford High School</th>\n      <td>80.632653</td>\n      <td>81.262712</td>\n      <td>80.403642</td>\n      <td>80.662338</td>\n    </tr>\n    <tr>\n      <th>Griffin High School</th>\n      <td>83.369193</td>\n      <td>83.706897</td>\n      <td>84.288089</td>\n      <td>84.013699</td>\n    </tr>\n    <tr>\n      <th>Hernandez High School</th>\n      <td>80.866860</td>\n      <td>80.660147</td>\n      <td>81.396140</td>\n      <td>80.857143</td>\n    </tr>\n    <tr>\n      <th>Holden High School</th>\n      <td>83.677165</td>\n      <td>83.324561</td>\n      <td>83.815534</td>\n      <td>84.698795</td>\n    </tr>\n    <tr>\n      <th>Huang High School</th>\n      <td>81.290284</td>\n      <td>81.512386</td>\n      <td>81.417476</td>\n      <td>80.305983</td>\n    </tr>\n    <tr>\n      <th>Johnson High School</th>\n      <td>81.260714</td>\n      <td>80.773431</td>\n      <td>80.616027</td>\n      <td>81.227564</td>\n    </tr>\n    <tr>\n      <th>Pena High School</th>\n      <td>83.807273</td>\n      <td>83.612000</td>\n      <td>84.335938</td>\n      <td>84.591160</td>\n    </tr>\n    <tr>\n      <th>Rodriguez High School</th>\n      <td>80.993127</td>\n      <td>80.629808</td>\n      <td>80.864811</td>\n      <td>80.376426</td>\n    </tr>\n    <tr>\n      <th>Shelton High School</th>\n      <td>84.122642</td>\n      <td>83.441964</td>\n      <td>84.373786</td>\n      <td>82.781671</td>\n    </tr>\n    <tr>\n      <th>Thomas High School</th>\n      <td>83.728850</td>\n      <td>84.254157</td>\n      <td>83.585542</td>\n      <td>83.831361</td>\n    </tr>\n    <tr>\n      <th>Wilson High School</th>\n      <td>83.939778</td>\n      <td>84.021452</td>\n      <td>83.764608</td>\n      <td>84.317673</td>\n    </tr>\n    <tr>\n      <th>Wright High School</th>\n      <td>83.833333</td>\n      <td>83.812757</td>\n      <td>84.156322</td>\n      <td>84.073171</td>\n    </tr>\n  </tbody>\n</table>\n</div>"
     },
     "metadata": {},
     "execution_count": 284
    }
   ],
   "source": [
    "#create a pivot table\n",
    "import numpy as np\n",
    "reading_table = pd.pivot_table(school_data_complete, values='reading_score', index=['school_name'], columns=['grade'], aggfunc=np.mean)\n",
    "\n",
    "#reorder the columns\n",
    "column_order = ['9th', '10th', '11th', '12th']\n",
    "reading_table1 = reading_table.reindex(column_order, axis=1)\n",
    "\n",
    "reading_table1"
   ]
  },
  {
   "cell_type": "markdown",
   "metadata": {},
   "source": [
    "## Scores by School Spending"
   ]
  },
  {
   "cell_type": "markdown",
   "metadata": {},
   "source": [
    "* Create a table that breaks down school performances based on average Spending Ranges (Per Student). Use 4 reasonable bins to group school spending. Include in the table each of the following:\n",
    "  * Average Math Score\n",
    "  * Average Reading Score\n",
    "  * % Passing Math\n",
    "  * % Passing Reading\n",
    "  * Overall Passing Rate (Average of the above two)"
   ]
  },
  {
   "cell_type": "code",
   "execution_count": 301,
   "metadata": {},
   "outputs": [],
   "source": [
    "#figure out the per student spending - I think the question misused the word 'average' related to school spending so I am ignoring it.  \n",
    "renamed_school_data['spending_per_student'] = renamed_school_data['Total School Budget']/renamed_school_data['Total Students']\n",
    "\n",
    "school_df = pd.DataFrame(renamed_school_data[['spending_per_student', 'Average Math Score', 'Average Math Score','% Passing Math', '% Passing Reading', '% Overall Passing']])"
   ]
  },
  {
   "cell_type": "code",
   "execution_count": 305,
   "metadata": {},
   "outputs": [],
   "source": [
    "#based on the range, bins will be roughly 575 - 675 - but because the example uses oddly shaped bins, I do that as well instead of even ranges\n",
    "bins = [0, 585, 630, 645, 675]\n",
    "bin_names = ['<$584', '$585 - $629', '$630 - $644', '$645 - $675']\n",
    "\n",
    "school_df['Spending Ranges (Per Student)'] = pd.cut(school_df['spending_per_student'], bins, labels=bin_names, include_lowest=True)\n",
    "\n",
    "#Drop unwanted column.\n",
    "school_df = school_df.drop(columns=['spending_per_student'])\n"
   ]
  },
  {
   "cell_type": "code",
   "execution_count": 306,
   "metadata": {},
   "outputs": [
    {
     "output_type": "execute_result",
     "data": {
      "text/plain": [
       "                               Average Math Score  Average Math Score  \\\n",
       "Spending Ranges (Per Student)                                           \n",
       "<$584                                   83.455399           83.455399   \n",
       "$585 - $629                             81.899826           81.899826   \n",
       "$630 - $644                             78.518855           78.518855   \n",
       "$645 - $675                             76.997210           76.997210   \n",
       "\n",
       "                               % Passing Math  % Passing Reading  \\\n",
       "Spending Ranges (Per Student)                                      \n",
       "<$584                                0.934601           0.966109   \n",
       "$585 - $629                          0.871335           0.927182   \n",
       "$630 - $644                          0.734842           0.843918   \n",
       "$645 - $675                          0.661648           0.811340   \n",
       "\n",
       "                               % Overall Passing  \n",
       "Spending Ranges (Per Student)                     \n",
       "<$584                                   0.903695  \n",
       "$585 - $629                             0.814186  \n",
       "$630 - $644                             0.628577  \n",
       "$645 - $675                             0.535269  "
      ],
      "text/html": "<div>\n<style scoped>\n    .dataframe tbody tr th:only-of-type {\n        vertical-align: middle;\n    }\n\n    .dataframe tbody tr th {\n        vertical-align: top;\n    }\n\n    .dataframe thead th {\n        text-align: right;\n    }\n</style>\n<table border=\"1\" class=\"dataframe\">\n  <thead>\n    <tr style=\"text-align: right;\">\n      <th></th>\n      <th>Average Math Score</th>\n      <th>Average Math Score</th>\n      <th>% Passing Math</th>\n      <th>% Passing Reading</th>\n      <th>% Overall Passing</th>\n    </tr>\n    <tr>\n      <th>Spending Ranges (Per Student)</th>\n      <th></th>\n      <th></th>\n      <th></th>\n      <th></th>\n      <th></th>\n    </tr>\n  </thead>\n  <tbody>\n    <tr>\n      <th>&lt;$584</th>\n      <td>83.455399</td>\n      <td>83.455399</td>\n      <td>0.934601</td>\n      <td>0.966109</td>\n      <td>0.903695</td>\n    </tr>\n    <tr>\n      <th>$585 - $629</th>\n      <td>81.899826</td>\n      <td>81.899826</td>\n      <td>0.871335</td>\n      <td>0.927182</td>\n      <td>0.814186</td>\n    </tr>\n    <tr>\n      <th>$630 - $644</th>\n      <td>78.518855</td>\n      <td>78.518855</td>\n      <td>0.734842</td>\n      <td>0.843918</td>\n      <td>0.628577</td>\n    </tr>\n    <tr>\n      <th>$645 - $675</th>\n      <td>76.997210</td>\n      <td>76.997210</td>\n      <td>0.661648</td>\n      <td>0.811340</td>\n      <td>0.535269</td>\n    </tr>\n  </tbody>\n</table>\n</div>"
     },
     "metadata": {},
     "execution_count": 306
    }
   ],
   "source": [
    "#Return the final table \n",
    "spending_vs_scores = school_df.groupby(['Spending Ranges (Per Student)'])\n",
    "spending_vs_scores.mean()\n"
   ]
  },
  {
   "cell_type": "markdown",
   "metadata": {},
   "source": [
    "## Scores by School Size"
   ]
  },
  {
   "cell_type": "markdown",
   "metadata": {},
   "source": [
    "* Perform the same operations as above, based on school size."
   ]
  },
  {
   "cell_type": "code",
   "execution_count": 312,
   "metadata": {},
   "outputs": [],
   "source": [
    "#place data in df\n",
    "size_df = pd.DataFrame(renamed_school_data[['Total Students', 'Average Math Score', 'Average Math Score','% Passing Math', '% Passing Reading', '% Overall Passing']])"
   ]
  },
  {
   "cell_type": "code",
   "execution_count": 315,
   "metadata": {},
   "outputs": [],
   "source": [
    "#create bins and assign labels\n",
    "bins = [0, 1000, 2000, 5000]\n",
    "bin_names = ['Small <1000', 'Medium 1000 - 1999', 'Large 2000 - 5000']\n",
    "\n",
    "size_df['School Size'] = pd.cut(size_df['Total Students'], bins, labels=bin_names, include_lowest=True)\n",
    "\n",
    "#Drop unwanted column.\n",
    "size_df = size_df.drop(columns=['Total Students'])"
   ]
  },
  {
   "cell_type": "code",
   "execution_count": 316,
   "metadata": {},
   "outputs": [
    {
     "output_type": "execute_result",
     "data": {
      "text/plain": [
       "                    Average Math Score  Average Math Score  % Passing Math  \\\n",
       "School Size                                                                  \n",
       "Small <1000                  83.821598           83.821598        0.935502   \n",
       "Medium 1000 - 1999           83.374684           83.374684        0.935997   \n",
       "Large 2000 - 5000            77.746417           77.746417        0.699634   \n",
       "\n",
       "                    % Passing Reading  % Overall Passing  \n",
       "School Size                                               \n",
       "Small <1000                  0.960994           0.898839  \n",
       "Medium 1000 - 1999           0.967907           0.906215  \n",
       "Large 2000 - 5000            0.827666           0.582860  "
      ],
      "text/html": "<div>\n<style scoped>\n    .dataframe tbody tr th:only-of-type {\n        vertical-align: middle;\n    }\n\n    .dataframe tbody tr th {\n        vertical-align: top;\n    }\n\n    .dataframe thead th {\n        text-align: right;\n    }\n</style>\n<table border=\"1\" class=\"dataframe\">\n  <thead>\n    <tr style=\"text-align: right;\">\n      <th></th>\n      <th>Average Math Score</th>\n      <th>Average Math Score</th>\n      <th>% Passing Math</th>\n      <th>% Passing Reading</th>\n      <th>% Overall Passing</th>\n    </tr>\n    <tr>\n      <th>School Size</th>\n      <th></th>\n      <th></th>\n      <th></th>\n      <th></th>\n      <th></th>\n    </tr>\n  </thead>\n  <tbody>\n    <tr>\n      <th>Small &lt;1000</th>\n      <td>83.821598</td>\n      <td>83.821598</td>\n      <td>0.935502</td>\n      <td>0.960994</td>\n      <td>0.898839</td>\n    </tr>\n    <tr>\n      <th>Medium 1000 - 1999</th>\n      <td>83.374684</td>\n      <td>83.374684</td>\n      <td>0.935997</td>\n      <td>0.967907</td>\n      <td>0.906215</td>\n    </tr>\n    <tr>\n      <th>Large 2000 - 5000</th>\n      <td>77.746417</td>\n      <td>77.746417</td>\n      <td>0.699634</td>\n      <td>0.827666</td>\n      <td>0.582860</td>\n    </tr>\n  </tbody>\n</table>\n</div>"
     },
     "metadata": {},
     "execution_count": 316
    }
   ],
   "source": [
    "#Return the final table \n",
    "schl_size_vs_scores = size_df.groupby(['School Size'])\n",
    "schl_size_vs_scores.mean()"
   ]
  },
  {
   "cell_type": "markdown",
   "metadata": {},
   "source": [
    "## Scores by School Type"
   ]
  },
  {
   "cell_type": "markdown",
   "metadata": {},
   "source": [
    "* Perform the same operations as above, based on school type"
   ]
  },
  {
   "cell_type": "code",
   "execution_count": 318,
   "metadata": {},
   "outputs": [],
   "source": [
    "s_type_df = pd.DataFrame(renamed_school_data[['School Type', 'Average Math Score', 'Average Math Score','% Passing Math', '% Passing Reading', '% Overall Passing']])"
   ]
  },
  {
   "cell_type": "code",
   "execution_count": 320,
   "metadata": {},
   "outputs": [
    {
     "output_type": "execute_result",
     "data": {
      "text/plain": [
       "             Average Math Score  Average Math Score  % Passing Math  \\\n",
       "School Type                                                           \n",
       "Charter               83.473852           83.473852        0.936208   \n",
       "District              76.956733           76.956733        0.665485   \n",
       "\n",
       "             % Passing Reading  % Overall Passing  \n",
       "School Type                                        \n",
       "Charter               0.965865           0.904322  \n",
       "District              0.807991           0.536722  "
      ],
      "text/html": "<div>\n<style scoped>\n    .dataframe tbody tr th:only-of-type {\n        vertical-align: middle;\n    }\n\n    .dataframe tbody tr th {\n        vertical-align: top;\n    }\n\n    .dataframe thead th {\n        text-align: right;\n    }\n</style>\n<table border=\"1\" class=\"dataframe\">\n  <thead>\n    <tr style=\"text-align: right;\">\n      <th></th>\n      <th>Average Math Score</th>\n      <th>Average Math Score</th>\n      <th>% Passing Math</th>\n      <th>% Passing Reading</th>\n      <th>% Overall Passing</th>\n    </tr>\n    <tr>\n      <th>School Type</th>\n      <th></th>\n      <th></th>\n      <th></th>\n      <th></th>\n      <th></th>\n    </tr>\n  </thead>\n  <tbody>\n    <tr>\n      <th>Charter</th>\n      <td>83.473852</td>\n      <td>83.473852</td>\n      <td>0.936208</td>\n      <td>0.965865</td>\n      <td>0.904322</td>\n    </tr>\n    <tr>\n      <th>District</th>\n      <td>76.956733</td>\n      <td>76.956733</td>\n      <td>0.665485</td>\n      <td>0.807991</td>\n      <td>0.536722</td>\n    </tr>\n  </tbody>\n</table>\n</div>"
     },
     "metadata": {},
     "execution_count": 320
    }
   ],
   "source": [
    "type_vs_scores = s_type_df.groupby(['School Type'])\n",
    "type_vs_scores.mean()"
   ]
  },
  {
   "cell_type": "code",
   "execution_count": 24,
   "metadata": {},
   "outputs": [
    {
     "data": {
      "text/html": [
       "<div>\n",
       "<style scoped>\n",
       "    .dataframe tbody tr th:only-of-type {\n",
       "        vertical-align: middle;\n",
       "    }\n",
       "\n",
       "    .dataframe tbody tr th {\n",
       "        vertical-align: top;\n",
       "    }\n",
       "\n",
       "    .dataframe thead th {\n",
       "        text-align: right;\n",
       "    }\n",
       "</style>\n",
       "<table border=\"1\" class=\"dataframe\">\n",
       "  <thead>\n",
       "    <tr style=\"text-align: right;\">\n",
       "      <th></th>\n",
       "      <th>Average Math Score</th>\n",
       "      <th>Average Reading Score</th>\n",
       "      <th>% Passing Math</th>\n",
       "      <th>% Passing Reading</th>\n",
       "      <th>% Overall Passing</th>\n",
       "    </tr>\n",
       "    <tr>\n",
       "      <th>School Type</th>\n",
       "      <th></th>\n",
       "      <th></th>\n",
       "      <th></th>\n",
       "      <th></th>\n",
       "      <th></th>\n",
       "    </tr>\n",
       "  </thead>\n",
       "  <tbody>\n",
       "    <tr>\n",
       "      <th>Charter</th>\n",
       "      <td>83.473852</td>\n",
       "      <td>83.896421</td>\n",
       "      <td>93.620830</td>\n",
       "      <td>96.586489</td>\n",
       "      <td>90.432244</td>\n",
       "    </tr>\n",
       "    <tr>\n",
       "      <th>District</th>\n",
       "      <td>76.956733</td>\n",
       "      <td>80.966636</td>\n",
       "      <td>66.548453</td>\n",
       "      <td>80.799062</td>\n",
       "      <td>53.672208</td>\n",
       "    </tr>\n",
       "  </tbody>\n",
       "</table>\n",
       "</div>"
      ],
      "text/plain": [
       "             Average Math Score  Average Reading Score  % Passing Math  \\\n",
       "School Type                                                              \n",
       "Charter               83.473852              83.896421       93.620830   \n",
       "District              76.956733              80.966636       66.548453   \n",
       "\n",
       "             % Passing Reading  % Overall Passing  \n",
       "School Type                                        \n",
       "Charter              96.586489          90.432244  \n",
       "District             80.799062          53.672208  "
      ]
     },
     "execution_count": 24,
     "metadata": {},
     "output_type": "execute_result"
    }
   ],
   "source": []
  }
 ],
 "metadata": {
  "anaconda-cloud": {},
  "kernel_info": {
   "name": "python3"
  },
  "kernelspec": {
   "name": "python385jvsc74a57bd0a26b834f5c8e365edd4c3c21afaa4e48e9cc650a545e5c40df6b1d0d591b57ec",
   "display_name": "Python 3.8.5 64-bit ('base': conda)"
  },
  "language_info": {
   "codemirror_mode": {
    "name": "ipython",
    "version": 3
   },
   "file_extension": ".py",
   "mimetype": "text/x-python",
   "name": "python",
   "nbconvert_exporter": "python",
   "pygments_lexer": "ipython3",
   "version": "3.8.5"
  },
  "latex_envs": {
   "LaTeX_envs_menu_present": true,
   "autoclose": false,
   "autocomplete": true,
   "bibliofile": "biblio.bib",
   "cite_by": "apalike",
   "current_citInitial": 1,
   "eqLabelWithNumbers": true,
   "eqNumInitial": 1,
   "hotkeys": {
    "equation": "Ctrl-E",
    "itemize": "Ctrl-I"
   },
   "labels_anchors": false,
   "latex_user_defs": false,
   "report_style_numbering": false,
   "user_envs_cfg": false
  },
  "nteract": {
   "version": "0.8.4"
  },
  "metadata": {
   "interpreter": {
    "hash": "a26b834f5c8e365edd4c3c21afaa4e48e9cc650a545e5c40df6b1d0d591b57ec"
   }
  }
 },
 "nbformat": 4,
 "nbformat_minor": 1
}